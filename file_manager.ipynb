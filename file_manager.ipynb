{
 "cells": [
  {
   "cell_type": "code",
   "execution_count": 2,
   "id": "f779c358-8048-487b-838e-1200752e4886",
   "metadata": {},
   "outputs": [
    {
     "name": "stderr",
     "output_type": "stream",
     "text": [
      "2023-01-16 15:10:47.746320: I tensorflow/stream_executor/platform/default/dso_loader.cc:49] Successfully opened dynamic library libcudart.so.11.0\n"
     ]
    }
   ],
   "source": [
    "import torch\n",
    "import numpy as np\n",
    "import tensorflow as tf\n",
    "import pandas as pd\n",
    "import seaborn as sns\n",
    "import heapq\n",
    "import random\n",
    "import matplotlib.pyplot as plt\n",
    "import os"
   ]
  },
  {
   "cell_type": "markdown",
   "id": "f4d41b6b-a0c8-4e4c-8339-4eafe8adda03",
   "metadata": {},
   "source": [
    "# create directory tree"
   ]
  },
  {
   "cell_type": "code",
   "execution_count": 3,
   "id": "4951931e-fef8-4c91-96d4-1aad0de6e935",
   "metadata": {},
   "outputs": [],
   "source": [
    "def check_n_create(dir_path, overwrite=False):\n",
    "    try:\n",
    "        if not os.path.exists(dir_path):\n",
    "            os.mkdir(dir_path)\n",
    "        else:\n",
    "            if overwrite:\n",
    "                shutil.rmtree(dir_path)\n",
    "                os.mkdir(dir_path)\n",
    "    except FileExistsError:\n",
    "        print(\"\\n ##### Warning File Exists... perhaps multi-threading error? \\n\")\n",
    "\n",
    "def create_directory_tree(dir_path):\n",
    "    dir_path = str.split(dir_path, sep='/')  # Ignore the blank characters in the start and end of string\n",
    "    for i in range(len(dir_path)):\n",
    "        check_n_create(os.path.join( *(dir_path[:i + 1])))"
   ]
  },
  {
   "cell_type": "markdown",
   "id": "bac8336f-99c5-4da5-aa55-9a21dd929b3b",
   "metadata": {},
   "source": [
    "# Traverse files"
   ]
  },
  {
   "cell_type": "code",
   "execution_count": 1,
   "id": "75b38a92-7c3f-419a-b8f7-790375026c47",
   "metadata": {},
   "outputs": [],
   "source": [
    "def traverse_and_get_files(directory, file_type=\"\", file_prefix=\"\"):\n",
    "    fileList = []\n",
    "    for root, subDirs, files in os.walk(directory):\n",
    "        for file_name in files:\n",
    "            if file_name.endswith(file_type) and file_name.startswith(file_prefix):\n",
    "                fileList.append(os.path.join(root, file_name))\n",
    "    return fileList"
   ]
  }
 ],
 "metadata": {
  "kernelspec": {
   "display_name": "“pjgu”",
   "language": "python",
   "name": "pjgu"
  },
  "language_info": {
   "codemirror_mode": {
    "name": "ipython",
    "version": 3
   },
   "file_extension": ".py",
   "mimetype": "text/x-python",
   "name": "python",
   "nbconvert_exporter": "python",
   "pygments_lexer": "ipython3",
   "version": "3.7.13"
  }
 },
 "nbformat": 4,
 "nbformat_minor": 5
}
