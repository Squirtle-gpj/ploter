{
 "cells": [
  {
   "cell_type": "code",
   "execution_count": 43,
   "id": "9595cc53-2097-4f9e-be9c-8b1b93977f3b",
   "metadata": {},
   "outputs": [],
   "source": [
    "from tsne_torch import TorchTSNE as TSNE\n",
    "import torch \n",
    "import pandas as pd\n",
    "import seaborn as sns\n",
    "import matplotlib.pyplot as plt"
   ]
  },
  {
   "cell_type": "code",
   "execution_count": 111,
   "id": "1f1e31a9-b249-432c-8b3b-9966d36f5d66",
   "metadata": {},
   "outputs": [],
   "source": [
    "SOCCER_path = \"/home/pengjie/Experiments/OPR/Results/reord_reps_SOCCER_1/reps_\"\n",
    "SOPR_path = \"/home/pengjie/Experiments/OPR/Results/reord_reps_SOPR_1/reps_\"\n",
    "set_name_list =[\"set1_medium\",\"set1_expert\",\"set1_full_replay\",\"set1_medium_replay\",'set2']"
   ]
  },
  {
   "cell_type": "markdown",
   "id": "04d878e0-f19e-42d8-b9ef-3008ad74fd4b",
   "metadata": {},
   "source": [
    "# get embeddings"
   ]
  },
  {
   "cell_type": "code",
   "execution_count": 103,
   "id": "8c275fae-3a26-485e-8553-143bae03e191",
   "metadata": {},
   "outputs": [],
   "source": [
    "def get_embs_SOCCER_x(path, set_name, x_policy):\n",
    "    #path = \"/home/pengjie/Experiments/OPR/Results/test_reord_reps_SOCCER_1/reps_{}.pt\".format(set)\n",
    "    path = path+set_name+\".pt\"\n",
    "    total_reps = torch.load(path)\n",
    "    nBatches = 32\n",
    "    nPolicies = 10\n",
    "\n",
    "    tmp_reps = []\n",
    "    cur_policy = 0\n",
    "    for ibatch in range(16):\n",
    "        for ipolicy in range(nPolicies):\n",
    "            if x_policy == ipolicy:\n",
    "                tmp_reps.append(total_reps[cur_policy][10:])\n",
    "            cur_policy +=1\n",
    "    tmp_reps = torch.cat(tmp_reps, dim=0).to(\"cuda\")\n",
    "    \n",
    "    val_list = []\n",
    "    for ibatch in range(16):\n",
    "        for ipolicy in range(10):\n",
    "            val_list.append(ipolicy)\n",
    "    \n",
    "    return tmp_reps,val_list\n",
    "\n",
    "def get_embs_SOCCER_y(path, set_name, y_policy):\n",
    "    #path = \"/home/pengjie/Experiments/OPR/Results/test_reord_reps_SOCCER_1/reps_{}.pt\".format(set)\n",
    "    path = path+set_name+\".pt\"\n",
    "    total_reps = torch.load(path)\n",
    "    nBatches = 32\n",
    "    nPolicies = 10\n",
    "\n",
    "    tmp_reps = []\n",
    "    cur_policy = 0\n",
    "    for ibatch in range(16):\n",
    "        for ipolicy in range(nPolicies):\n",
    "            if y_policy == ipolicy:\n",
    "                tmp_reps.append(total_reps[cur_policy][:10])\n",
    "            cur_policy +=1\n",
    "    tmp_reps = torch.cat(tmp_reps, dim=0).to(\"cuda\")\n",
    "    \n",
    "    val_list = []\n",
    "    for ibatch in range(16):\n",
    "        for ipolicy in range(10):\n",
    "            val_list.append(ipolicy)\n",
    "    \n",
    "    return tmp_reps,val_list\n",
    "\n",
    "def get_embs_SOCCER(path, set_name, y_policy):\n",
    "    #path = \"/home/pengjie/Experiments/OPR/Results/test_reord_reps_SOCCER_1/reps_{}.pt\".format(set)\n",
    "    path = path+set_name+\".pt\"\n",
    "    total_reps = torch.load(path)\n",
    "    nBatches = 32\n",
    "    nPolicies = 10\n",
    "\n",
    "    tmp_reps = []\n",
    "    cur_policy = 0\n",
    "    for ibatch in range(16):\n",
    "        for ipolicy in range(nPolicies):\n",
    "            if y_policy == ipolicy:\n",
    "                tmp_reps.append(total_reps[cur_policy])\n",
    "            cur_policy +=1\n",
    "    tmp_reps = torch.cat(tmp_reps, dim=0).to(\"cuda\")\n",
    "    \n",
    "    val_list = []\n",
    "    for ibatch in range(16):\n",
    "        for ipolicy in range(20):\n",
    "            if ipolicy <10:\n",
    "                val_list.append(0)\n",
    "            else:\n",
    "                val_list.append(9)\n",
    "    \n",
    "    return tmp_reps,val_list\n",
    "\n",
    "def get_embs_SOPR(path, set_name):\n",
    "    #path = \"/home/pengjie/Experiments/OPR/Results/test_reord_reps_SOCCER_1/reps_{}.pt\".format(set)\n",
    "    path = path+set_name+\".pt\"\n",
    "    total_reps = torch.load(path)\n",
    "    tmp_reps=[]\n",
    "    for ireps in total_reps:\n",
    "        tmp_reps.append(ireps)\n",
    "    tmp_reps = torch.cat(tmp_reps, dim=0).to(\"cuda\")\n",
    "    val_list = []\n",
    "    for ibatch in range(16):\n",
    "        for ipolicy in range(10):\n",
    "            val_list.append(ipolicy)\n",
    "    return tmp_reps.squeeze(dim=1),val_list"
   ]
  },
  {
   "cell_type": "code",
   "execution_count": 68,
   "id": "beab04a2-1c17-4fe8-9ab1-d06fa788e18b",
   "metadata": {},
   "outputs": [],
   "source": [
    "embs,val_list = get_embs_SOPR(SOPR_path, set_name_list[0])"
   ]
  },
  {
   "cell_type": "code",
   "execution_count": 57,
   "id": "845c3ea6-1588-4cef-ae96-80d8ba8c640e",
   "metadata": {},
   "outputs": [],
   "source": [
    "embs = get_embs_SOCCER(SOCCER_path, set_name_list[0])"
   ]
  },
  {
   "cell_type": "code",
   "execution_count": 63,
   "id": "83696436-45b0-4679-b29c-509fab5d5237",
   "metadata": {},
   "outputs": [
    {
     "data": {
      "text/plain": [
       "torch.Size([160, 128])"
      ]
     },
     "execution_count": 63,
     "metadata": {},
     "output_type": "execute_result"
    }
   ],
   "source": [
    "embs.shape"
   ]
  },
  {
   "cell_type": "code",
   "execution_count": 52,
   "id": "bf6c3a70-fd42-435a-a66e-dfd46bde4af3",
   "metadata": {},
   "outputs": [],
   "source": [
    "path = SOPR_path + set_name_list[0] + \".pt\"\n",
    "total_reps = torch.load(path)"
   ]
  },
  {
   "cell_type": "code",
   "execution_count": 53,
   "id": "d0ceae70-626b-48a7-bfe3-8729605e809d",
   "metadata": {},
   "outputs": [
    {
     "data": {
      "text/plain": [
       "torch.Size([20, 128])"
      ]
     },
     "execution_count": 53,
     "metadata": {},
     "output_type": "execute_result"
    }
   ],
   "source": [
    "total_reps[0]].shape"
   ]
  },
  {
   "cell_type": "code",
   "execution_count": 10,
   "id": "f3dbd184-32d9-417f-82f8-bd616297a90c",
   "metadata": {},
   "outputs": [],
   "source": [
    "embs = torch.zeros(128,10).to(\"cuda\")"
   ]
  },
  {
   "cell_type": "code",
   "execution_count": 64,
   "id": "3486f73c-491e-43d1-84f9-2bec8df01d0f",
   "metadata": {},
   "outputs": [
    {
     "name": "stderr",
     "output_type": "stream",
     "text": [
      "using cuda\n",
      "initializing...\n",
      "computing p-values...\n"
     ]
    },
    {
     "data": {
      "application/json": {
       "ascii": false,
       "bar_format": null,
       "colour": null,
       "elapsed": 0.017652511596679688,
       "initial": 0,
       "n": 0,
       "ncols": null,
       "nrows": null,
       "postfix": null,
       "prefix": "",
       "rate": null,
       "total": 160,
       "unit": "it",
       "unit_divisor": 1000,
       "unit_scale": false
      },
      "application/vnd.jupyter.widget-view+json": {
       "model_id": "4424adc3ce0f4b89a3beb9a3758478b2",
       "version_major": 2,
       "version_minor": 0
      },
      "text/plain": [
       "  0%|          | 0/160 [00:00<?, ?it/s]"
      ]
     },
     "metadata": {},
     "output_type": "display_data"
    },
    {
     "name": "stderr",
     "output_type": "stream",
     "text": [
      "fitting...\n"
     ]
    },
    {
     "data": {
      "application/json": {
       "ascii": false,
       "bar_format": null,
       "colour": null,
       "elapsed": 0.017736196517944336,
       "initial": 0,
       "n": 0,
       "ncols": null,
       "nrows": null,
       "postfix": null,
       "prefix": "",
       "rate": null,
       "total": 1000,
       "unit": "it",
       "unit_divisor": 1000,
       "unit_scale": false
      },
      "application/vnd.jupyter.widget-view+json": {
       "model_id": "2438a8023c7749dba76fe724551c9653",
       "version_major": 2,
       "version_minor": 0
      },
      "text/plain": [
       "  0%|          | 0/1000 [00:00<?, ?it/s]"
      ]
     },
     "metadata": {},
     "output_type": "display_data"
    }
   ],
   "source": [
    "tsne_emb = TSNE(n_components=2, perplexity=float(30), n_iter=1000, verbose=True).fit_transform(embs)"
   ]
  },
  {
   "cell_type": "code",
   "execution_count": 115,
   "id": "c372736d-033f-44fc-8d88-49669b9f9b49",
   "metadata": {},
   "outputs": [
    {
     "name": "stderr",
     "output_type": "stream",
     "text": [
      "using cuda\n",
      "initializing...\n",
      "computing p-values...\n"
     ]
    },
    {
     "data": {
      "application/json": {
       "ascii": false,
       "bar_format": null,
       "colour": null,
       "elapsed": 0.021317720413208008,
       "initial": 0,
       "n": 0,
       "ncols": null,
       "nrows": null,
       "postfix": null,
       "prefix": "",
       "rate": null,
       "total": 160,
       "unit": "it",
       "unit_divisor": 1000,
       "unit_scale": false
      },
      "application/vnd.jupyter.widget-view+json": {
       "model_id": "b682975a687a4b95ab6a65ec1d2d19f3",
       "version_major": 2,
       "version_minor": 0
      },
      "text/plain": [
       "  0%|          | 0/160 [00:00<?, ?it/s]"
      ]
     },
     "metadata": {},
     "output_type": "display_data"
    },
    {
     "name": "stderr",
     "output_type": "stream",
     "text": [
      "fitting...\n"
     ]
    },
    {
     "data": {
      "application/json": {
       "ascii": false,
       "bar_format": null,
       "colour": null,
       "elapsed": 0.017612695693969727,
       "initial": 0,
       "n": 0,
       "ncols": null,
       "nrows": null,
       "postfix": null,
       "prefix": "",
       "rate": null,
       "total": 1000,
       "unit": "it",
       "unit_divisor": 1000,
       "unit_scale": false
      },
      "application/vnd.jupyter.widget-view+json": {
       "model_id": "fb7a89d1114a438bb47845494945b935",
       "version_major": 2,
       "version_minor": 0
      },
      "text/plain": [
       "  0%|          | 0/1000 [00:00<?, ?it/s]"
      ]
     },
     "metadata": {},
     "output_type": "display_data"
    },
    {
     "data": {
      "image/png": "[encoded data removed]",
      "text/plain": [
       "<Figure size 720x720 with 2 Axes>"
      ]
     },
     "metadata": {},
     "output_type": "display_data"
    }
   ],
   "source": [
    "embs,val_list = get_embs_SOCCER_x(SOCCER_path, set_name_list[4], 5)\n",
    "tsne_emb = TSNE(n_components=2, perplexity=float(30), n_iter=1000, verbose=True).fit_transform(embs)\n",
    "plot_reps(tsne_emb, val_list, saveinfo=None)"
   ]
  },
  {
   "cell_type": "code",
   "execution_count": 90,
   "id": "0d560d9f-194b-4af6-a068-e28ce9e12355",
   "metadata": {},
   "outputs": [
    {
     "data": {
      "text/plain": [
       "torch.Size([160, 128])"
      ]
     },
     "execution_count": 90,
     "metadata": {},
     "output_type": "execute_result"
    }
   ],
   "source": []
  },
  {
   "cell_type": "code",
   "execution_count": 107,
   "id": "0e948867-9302-4817-a1df-1820946fe013",
   "metadata": {},
   "outputs": [],
   "source": [
    "def plot_reps(emb, val, saveinfo=None):\n",
    "    #emb = emb.cpu()\n",
    "    # cm = plt.cm.get_cmap('RdYlBu')\n",
    "    cm = plt.cm.get_cmap('Spectral')\n",
    "    #val = value_list[state_idx]\n",
    "    #val_max = val.max()\n",
    "    #val_min = val.min()\n",
    "    #val = (val - val_min) / (val_max - val_min)\n",
    "    # val = np.log(val+1)\n",
    "    plt.figure(facecolor=\"white\", figsize=(10, 10))\n",
    "    sc = plt.scatter(emb[:, 0], emb[:, 1], c=val, s=30, alpha=1, vmin=0, vmax=9, cmap=cm)\n",
    "    # plt.colorbar(sc)\n",
    "    # plt.show()\n",
    "    plt.xticks([])\n",
    "    plt.yticks([])\n",
    "    plt.colorbar(sc)\n",
    "    # plt.show()\n",
    "    if saveinfo is not None:\n",
    "        plt.savefig(saveinfo[\"name\"], format=saveinfo[\"format\"], dpi=saveinfo[\"dpi\"])"
   ]
  },
  {
   "cell_type": "code",
   "execution_count": 78,
   "id": "5bd04ea5-8918-4caa-88f8-06c1a218aaad",
   "metadata": {},
   "outputs": [
    {
     "data": {
      "image/png": "[encoded data removed]",
      "text/plain": [
       "<Figure size 720x720 with 2 Axes>"
      ]
     },
     "metadata": {},
     "output_type": "display_data"
    }
   ],
   "source": [
    "plot_reps(tsne_emb, val_list, saveinfo=None)"
   ]
  },
  {
   "cell_type": "code",
   "execution_count": 83,
   "id": "5e27ca0a-c111-4733-89b1-e9944effcaa8",
   "metadata": {},
   "outputs": [
    {
     "name": "stderr",
     "output_type": "stream",
     "text": [
      "using cuda\n",
      "initializing...\n",
      "computing p-values...\n"
     ]
    },
    {
     "data": {
      "application/json": {
       "ascii": false,
       "bar_format": null,
       "colour": null,
       "elapsed": 0.021014690399169922,
       "initial": 0,
       "n": 0,
       "ncols": null,
       "nrows": null,
       "postfix": null,
       "prefix": "",
       "rate": null,
       "total": 160,
       "unit": "it",
       "unit_divisor": 1000,
       "unit_scale": false
      },
      "application/vnd.jupyter.widget-view+json": {
       "model_id": "b68430ada3524963bd908caf70ffabfa",
       "version_major": 2,
       "version_minor": 0
      },
      "text/plain": [
       "  0%|          | 0/160 [00:00<?, ?it/s]"
      ]
     },
     "metadata": {},
     "output_type": "display_data"
    },
    {
     "name": "stderr",
     "output_type": "stream",
     "text": [
      "fitting...\n"
     ]
    },
    {
     "data": {
      "application/json": {
       "ascii": false,
       "bar_format": null,
       "colour": null,
       "elapsed": 0.016872644424438477,
       "initial": 0,
       "n": 0,
       "ncols": null,
       "nrows": null,
       "postfix": null,
       "prefix": "",
       "rate": null,
       "total": 1000,
       "unit": "it",
       "unit_divisor": 1000,
       "unit_scale": false
      },
      "application/vnd.jupyter.widget-view+json": {
       "model_id": "e35362deb8ec4c8c92c8e7ae5b4d92a8",
       "version_major": 2,
       "version_minor": 0
      },
      "text/plain": [
       "  0%|          | 0/1000 [00:00<?, ?it/s]"
      ]
     },
     "metadata": {},
     "output_type": "display_data"
    },
    {
     "data": {
      "image/png": "[encoded data removed]",
      "text/plain": [
       "<Figure size 720x720 with 2 Axes>"
      ]
     },
     "metadata": {},
     "output_type": "display_data"
    }
   ],
   "source": [
    "embs,val_list = get_embs_SOPR(SOPR_path, set_name_list[3])\n",
    "tsne_emb = TSNE(n_components=2, perplexity=float(30), n_iter=1000, verbose=True).fit_transform(embs)\n",
    "plot_reps(tsne_emb, val_list, saveinfo=None)"
   ]
  },
  {
   "cell_type": "code",
   "execution_count": 84,
   "id": "07ab6bd9-de8b-4b41-ae6e-79a0d250ad42",
   "metadata": {},
   "outputs": [
    {
     "name": "stderr",
     "output_type": "stream",
     "text": [
      "using cuda\n",
      "initializing...\n"
     ]
    },
    {
     "ename": "IndexError",
     "evalue": "index 128 is out of bounds for dimension 1 with size 128",
     "output_type": "error",
     "traceback": [
      "\u001b[0;31m---------------------------------------------------------------------------\u001b[0m",
      "\u001b[0;31mIndexError\u001b[0m                                Traceback (most recent call last)",
      "\u001b[0;32m/tmp/ipykernel_23193/3293159725.py\u001b[0m in \u001b[0;36m<module>\u001b[0;34m\u001b[0m\n\u001b[1;32m      1\u001b[0m \u001b[0membs\u001b[0m\u001b[0;34m,\u001b[0m\u001b[0mval_list\u001b[0m \u001b[0;34m=\u001b[0m \u001b[0mget_embs_SOPR\u001b[0m\u001b[0;34m(\u001b[0m\u001b[0mSOPR_path\u001b[0m\u001b[0;34m,\u001b[0m \u001b[0mset_name_list\u001b[0m\u001b[0;34m[\u001b[0m\u001b[0;36m4\u001b[0m\u001b[0;34m]\u001b[0m\u001b[0;34m)\u001b[0m\u001b[0;34m\u001b[0m\u001b[0;34m\u001b[0m\u001b[0m\n\u001b[0;32m----> 2\u001b[0;31m \u001b[0mtsne_emb\u001b[0m \u001b[0;34m=\u001b[0m \u001b[0mTSNE\u001b[0m\u001b[0;34m(\u001b[0m\u001b[0mn_components\u001b[0m\u001b[0;34m=\u001b[0m\u001b[0;36m2\u001b[0m\u001b[0;34m,\u001b[0m \u001b[0mperplexity\u001b[0m\u001b[0;34m=\u001b[0m\u001b[0mfloat\u001b[0m\u001b[0;34m(\u001b[0m\u001b[0;36m30\u001b[0m\u001b[0;34m)\u001b[0m\u001b[0;34m,\u001b[0m \u001b[0mn_iter\u001b[0m\u001b[0;34m=\u001b[0m\u001b[0;36m1000\u001b[0m\u001b[0;34m,\u001b[0m \u001b[0mverbose\u001b[0m\u001b[0;34m=\u001b[0m\u001b[0;32mTrue\u001b[0m\u001b[0;34m)\u001b[0m\u001b[0;34m.\u001b[0m\u001b[0mfit_transform\u001b[0m\u001b[0;34m(\u001b[0m\u001b[0membs\u001b[0m\u001b[0;34m)\u001b[0m\u001b[0;34m\u001b[0m\u001b[0;34m\u001b[0m\u001b[0m\n\u001b[0m\u001b[1;32m      3\u001b[0m \u001b[0mplot_reps\u001b[0m\u001b[0;34m(\u001b[0m\u001b[0mtsne_emb\u001b[0m\u001b[0;34m,\u001b[0m \u001b[0mval_list\u001b[0m\u001b[0;34m,\u001b[0m \u001b[0msaveinfo\u001b[0m\u001b[0;34m=\u001b[0m\u001b[0;32mNone\u001b[0m\u001b[0;34m)\u001b[0m\u001b[0;34m\u001b[0m\u001b[0;34m\u001b[0m\u001b[0m\n",
      "\u001b[0;32m~/anaconda3/envs/pjgu/lib/python3.7/site-packages/tsne_torch/tsne_torch.py\u001b[0m in \u001b[0;36mfit_transform\u001b[0;34m(self, X, y)\u001b[0m\n\u001b[1;32m    260\u001b[0m                 \u001b[0mperplexity\u001b[0m\u001b[0;34m=\u001b[0m\u001b[0mself\u001b[0m\u001b[0;34m.\u001b[0m\u001b[0mperplexity\u001b[0m\u001b[0;34m,\u001b[0m\u001b[0;34m\u001b[0m\u001b[0;34m\u001b[0m\u001b[0m\n\u001b[1;32m    261\u001b[0m                 \u001b[0mverbose\u001b[0m\u001b[0;34m=\u001b[0m\u001b[0mself\u001b[0m\u001b[0;34m.\u001b[0m\u001b[0mverbose\u001b[0m\u001b[0;34m,\u001b[0m\u001b[0;34m\u001b[0m\u001b[0;34m\u001b[0m\u001b[0m\n\u001b[0;32m--> 262\u001b[0;31m                 \u001b[0mmax_iter\u001b[0m\u001b[0;34m=\u001b[0m\u001b[0mself\u001b[0m\u001b[0;34m.\u001b[0m\u001b[0mn_iter\u001b[0m\u001b[0;34m\u001b[0m\u001b[0;34m\u001b[0m\u001b[0m\n\u001b[0m\u001b[1;32m    263\u001b[0m             )\n",
      "\u001b[0;32m~/anaconda3/envs/pjgu/lib/python3.7/site-packages/tsne_torch/tsne_torch.py\u001b[0m in \u001b[0;36m_tsne\u001b[0;34m(X, no_dims, initial_dims, perplexity, max_iter, verbose)\u001b[0m\n\u001b[1;32m    156\u001b[0m     \u001b[0;31m# Initialize variables\u001b[0m\u001b[0;34m\u001b[0m\u001b[0;34m\u001b[0m\u001b[0;34m\u001b[0m\u001b[0m\n\u001b[1;32m    157\u001b[0m     \u001b[0;32mif\u001b[0m \u001b[0minitial_dims\u001b[0m \u001b[0;34m<\u001b[0m \u001b[0mX\u001b[0m\u001b[0;34m.\u001b[0m\u001b[0mshape\u001b[0m\u001b[0;34m[\u001b[0m\u001b[0;36m1\u001b[0m\u001b[0;34m]\u001b[0m\u001b[0;34m:\u001b[0m\u001b[0;34m\u001b[0m\u001b[0;34m\u001b[0m\u001b[0m\n\u001b[0;32m--> 158\u001b[0;31m         \u001b[0mX\u001b[0m \u001b[0;34m=\u001b[0m \u001b[0m_pca_torch\u001b[0m\u001b[0;34m(\u001b[0m\u001b[0mX\u001b[0m\u001b[0;34m,\u001b[0m \u001b[0minitial_dims\u001b[0m\u001b[0;34m)\u001b[0m\u001b[0;34m\u001b[0m\u001b[0;34m\u001b[0m\u001b[0m\n\u001b[0m\u001b[1;32m    159\u001b[0m     \u001b[0;32melif\u001b[0m \u001b[0mverbose\u001b[0m\u001b[0;34m:\u001b[0m\u001b[0;34m\u001b[0m\u001b[0;34m\u001b[0m\u001b[0m\n\u001b[1;32m    160\u001b[0m         \u001b[0mprint\u001b[0m\u001b[0;34m(\u001b[0m\u001b[0;34m\"skipping PCA because initial_dims is larger than input dimensionality\"\u001b[0m\u001b[0;34m,\u001b[0m \u001b[0mfile\u001b[0m\u001b[0;34m=\u001b[0m\u001b[0msys\u001b[0m\u001b[0;34m.\u001b[0m\u001b[0mstderr\u001b[0m\u001b[0;34m)\u001b[0m\u001b[0;34m\u001b[0m\u001b[0;34m\u001b[0m\u001b[0m\n",
      "\u001b[0;32m~/anaconda3/envs/pjgu/lib/python3.7/site-packages/tsne_torch/tsne_torch.py\u001b[0m in \u001b[0;36m_pca_torch\u001b[0;34m(X, no_dims)\u001b[0m\n\u001b[1;32m    126\u001b[0m     \u001b[0;32mfor\u001b[0m \u001b[0mi\u001b[0m \u001b[0;32min\u001b[0m \u001b[0mrange\u001b[0m\u001b[0;34m(\u001b[0m\u001b[0md\u001b[0m\u001b[0;34m)\u001b[0m\u001b[0;34m:\u001b[0m\u001b[0;34m\u001b[0m\u001b[0;34m\u001b[0m\u001b[0m\n\u001b[1;32m    127\u001b[0m         \u001b[0;32mif\u001b[0m \u001b[0ml\u001b[0m\u001b[0;34m[\u001b[0m\u001b[0mi\u001b[0m\u001b[0;34m,\u001b[0m \u001b[0;36m1\u001b[0m\u001b[0;34m]\u001b[0m \u001b[0;34m!=\u001b[0m \u001b[0;36m0\u001b[0m\u001b[0;34m:\u001b[0m\u001b[0;34m\u001b[0m\u001b[0;34m\u001b[0m\u001b[0m\n\u001b[0;32m--> 128\u001b[0;31m             \u001b[0mM\u001b[0m\u001b[0;34m[\u001b[0m\u001b[0;34m:\u001b[0m\u001b[0;34m,\u001b[0m \u001b[0mi\u001b[0m\u001b[0;34m+\u001b[0m\u001b[0;36m1\u001b[0m\u001b[0;34m]\u001b[0m \u001b[0;34m=\u001b[0m \u001b[0mM\u001b[0m\u001b[0;34m[\u001b[0m\u001b[0;34m:\u001b[0m\u001b[0;34m,\u001b[0m \u001b[0mi\u001b[0m\u001b[0;34m]\u001b[0m\u001b[0;34m\u001b[0m\u001b[0;34m\u001b[0m\u001b[0m\n\u001b[0m\u001b[1;32m    129\u001b[0m             \u001b[0mi\u001b[0m \u001b[0;34m+=\u001b[0m \u001b[0;36m1\u001b[0m\u001b[0;34m\u001b[0m\u001b[0;34m\u001b[0m\u001b[0m\n\u001b[1;32m    130\u001b[0m \u001b[0;34m\u001b[0m\u001b[0m\n",
      "\u001b[0;31mIndexError\u001b[0m: index 128 is out of bounds for dimension 1 with size 128"
     ]
    }
   ],
   "source": [
    "embs,val_list = get_embs_SOPR(SOPR_path, set_name_list[4])\n",
    "tsne_emb = TSNE(n_components=2, perplexity=float(30), n_iter=1000, verbose=True).fit_transform(embs)\n",
    "plot_reps(tsne_emb, val_list, saveinfo=None)"
   ]
  }
 ],
 "metadata": {
  "kernelspec": {
   "display_name": "“pjgu”",
   "language": "python",
   "name": "pjgu"
  },
  "language_info": {
   "codemirror_mode": {
    "name": "ipython",
    "version": 3
   },
   "file_extension": ".py",
   "mimetype": "text/x-python",
   "name": "python",
   "nbconvert_exporter": "python",
   "pygments_lexer": "ipython3",
   "version": "3.7.13"
  }
 },
 "nbformat": 4,
 "nbformat_minor": 5
}
